


import numpy as np
import pandas as pd
import seaborn as sns
import matplotlib.pyplot as plt
%matplotlib inline
import warnings
warnings.filterwarnings('ignore')






df=pd.read_csv('data/stud.csv')





df.head()





df.shape











df.isna().sum()








df.duplicated().sum()








df.info()





df.nunique()





df.describe()






df.head()



print("Categories in 'gender' variable:",end=" ")
print(df['gender'].unique())
print("Categories in 'race ethenicity' variable: ",end=" ")
print(df['race_ethnicity'].unique())
print("categoriesin'parental level of education' variable:",end=" ")
print(df['parental_level_of_education'].unique())
print("Categories in 'lunch' variable:  ",end=" ")
print(df['lunch'].unique())
print("categories in 'test preparation course' variable:",end=" ")
print(df['test_preparation_course'].unique())


numeric_features=[feature for feature in df.columns if df[feature].dtype!='O']
categorical_features = [feature for feature in df.columns if df[feature].dtype == 'O']
print('We have {} numerical featuress:{}'.format(len(numeric_features),numeric_features))
print('\nWe have {} categoriacal features :{}'.format(len(categorical_features),categorical_features))


df.head(2)





df['total score']=df['math_score']+df['reading_score']+df['writing_score']
df['average']=df['total score']/3
df.head()


reading_full = df[df['reading_score'] == 100]['average'].count()
writing_full=df[df['writing_score']==100]['average'].count()
math_full=df[df['math_score']==100]['average'].count()
print(f'Number of students with full marks in Reading: {reading_full}')
print(f'Number of students with ful marks in Writing: {writing_full}')
print(f'Number of students with full marks in Math: {math_full}')


reading_less_20=df[df['reading_score']<=20]['average'].count()
print(f'Number of students with less than 20 marks in Reading: {reading_less_20}')
writing_less_20=df[df['writing_score']<=20]['average'].count()
print(f'Number of students with less than 20 marks in writing: {writing_less_20}')
math_less_20=df[df['math_score']<=20]['average'].count()
print(f'Number of students with less than 20 marks in math: {math_less_20}')











fig, axs = plt.subplots(1, 2, figsize=(15, 7))
plt.subplot(121)
sns.histplot(data=df,x='average',bins=30,kde=True,color='r')
plt.subplot(122)
sns.histplot(data=df,x='average',bins=30,kde=True,hue='gender')
plt.show()



fig, axs = plt.subplots(1, 2, figsize=(15, 7))
plt.subplot(121)
sns.histplot(data=df,x='total score',bins=30,kde=True,color='b')
plt.subplot(122)
sns.histplot(data=df,x='total score',kde=True,hue='gender')






plt.subplots(1,3,figsize=(15,5))
plt.subplot(131)
sns.histplot(data=df,x='average',kde=True,hue='lunch')
plt.subplot(132)
sns.histplot(data=df[df.gender=='female'],x='average',kde=True,hue='lunch')
plt.subplot(133)
sns.histplot(data=df[df.gender=='male'],x='average',kde=True,hue='lunch')
plt.show()







plt.subplots(1,3,figsize=(25,6))
plt.subplot(141)
ax =sns.histplot(data=df,x='average',kde=True,hue='parental_level_of_education')
plt.subplot(142)
ax =sns.histplot(data=df[df.gender=='male'],x='average',kde=True,hue='parental_level_of_education')
plt.subplot(143)
ax =sns.histplot(data=df[df.gender=='female'],x='average',kde=True,hue='parental_level_of_education')
plt.show()





plt.subplots(1,3,figsize=(25,6))
plt.subplot(141)
sns.histplot(data=df,x='average',kde=True,hue='race_ethnicity')
plt.subplot(142)
sns.histplot(data=df[df.gender=='male'],x='average',kde=True,hue='race_ethnicity')
plt.subplot(143)
sns.histplot(data=df[df.gender=='female'], x='average',kde=True,hue='race_ethnicity')
plt.show()








plt.figure(figsize=(18,8))
plt.subplot(1,4,1)
plt.title('Math Scores')
sns.violinplot(y='math_score',data=df,color='red',linewidth=1)
plt.subplot(142)
plt.title('Reading Scores')
sns.violinplot(y='reading_score',data=df,color='pink',linewidth=2)
plt.subplot(143)
plt.title('Writing Score')

sns.violinplot(y='writing_score',data=df,color='orange')

plt.show()


plt.figure(figsize=(18,8))

plt.subplot(141)
plt.title('average')
sns.violinplot(y='average',data=df,color='cyan')


plt.subplot(142)
plt.title('averagecompleted')
sns.violinplot(y='average',data=df[df.test_preparation_course=='completed'],color='cyan')

plt.subplot(143)
plt.title('averagenone')

sns.violinplot(y='average',data=df[df.test_preparation_course=='none'],color='cyan')
plt.show()








plt.rcParams['figure.figsize']=(30,20)
plt.subplot(151)
size=df['gender'].value_counts()
labels='female','male'
color=['r','g']
plt.axis('off')
plt.pie(size,colors=color, labels=labels,autopct='%.2f%%')
plt.title('Gneder', fontsize=20)

plt.subplot(152)
size=df['lunch'].value_counts()
plt.pie(size,labels=size.index,autopct='%.2f%%')
plt.title('lunch', fontsize=20)
plt.axis('off')


plt.subplot(153)
size=df['race_ethnicity'].value_counts()
plt.pie(size,labels=size.index, autopct='%.2f%%')
plt.axis('off')
plt.title('Race',fontsize=20)


plt.subplot(154)
size=df['test_preparation_course'].value_counts()
plt.pie(size,labels=size.index,autopct='%.2f%%',colors=['pink','purple'])
plt.axis('off')
plt.title('Test Preperation',fontsize=20)

plt.subplot(155)
size=df['parental_level_of_education'].value_counts()
plt.axis('off')
plt.pie(size,labels=size.index,autopct='%.2f%%')
plt.title('paraental level of education',fontsize= 20)

plt.tight_layout()
plt.grid()


plt.show()





plt.figure(figsize=(10,10))
df['average_range'] = pd.cut(df['average'], bins=2)
size=df.groupby('average_range')['test_preparation_course'].value_counts()
plt.pie(size,labels=size.index, autopct='%.2f%%')
plt.title('Writing score')
plt.show()



plt.subplots(1,3,figsize=(25,6))
plt.subplot(141)
sns.histplot(data=df,x='average',kde=True,hue='test_preparation_course')
plt.subplot(142)
sns.histplot(data=df[df.test_preparation_course=='completed'],x='average',kde=True,hue='test_preparation_course')
plt.subplot(143)
sns.histplot(data=df[df.test_preparation_course=='none'], x='average',kde=True,hue='test_preparation_course')



plt.subplots(1, 3, figsize=(25, 6))


plt.subplot(141)
sns.histplot(data=df, x='average', kde=True, hue='test_preparation_course',bins=2)



plt.subplot(142)
sns.histplot(data=df[df.test_preparation_course == 'completed'], x='average', kde=True, hue='test_preparation_course')
plt.xlim(0, 100)  
plt.ylim(0, 100)  


plt.subplot(143)
sns.histplot(data=df[df.test_preparation_course == 'none'], x='average', kde=True, hue='test_preparation_course')
plt.xlim(0, 100)  
plt.ylim(0, 100)  

plt.show()






f,ax=plt.subplots(1,2,figsize=(20,10))
sns.countplot(x=df['gender'],data=df,palette ='bright',ax=ax[0],saturation=0.95)
for container in ax[0].containers:
        ax[0].bar_label(container,color='black',size=20) 

plt.pie(x=df['gender'].value_counts(),labels=df['gender'].value_counts().index, explode=[0.05,0.05],autopct='%1.1f%%',shadow=True,colors=['#ff4d4d','#ff8000'])

plt.show()









gender_group=df.groupby('gender').mean(numeric_only=True)
gender_group




plt.figure(figsize=(10,8))
female_score=[gender_group['average'][0], gender_group['math_score'][0]]
male_score=[gender_group['average'][1], gender_group['math_score'][1]]
X=['Total Average','Math Average']
X_axis=np.arange(len(X))
plt.bar(X_axis-0.2,female_score,0.3,label='Female',color='violet')
plt.bar(X_axis+0.2,male_score,0.3,label='Male',color='pink')
plt.xticks(X_axis,X)
plt.ylabel("Marks")
plt.title("Total Average vs Math average marks of both genders",fontweight="bold")
plt.legend()
plt.show()




df.describe()





f,ax=plt.subplots(1,2,figsize=(20,10))
bright_palette = sns.color_palette("bright")

sns.countplot(x=df['race_ethnicity'],data=df,palette=[bright_palette[1], bright_palette[4], bright_palette[6], bright_palette[9], bright_palette[3]],ax=ax[0],saturation=0.95)

for container in ax[0].containers:
    ax[0].bar_label(container,color='black',size=20)

plt.pie(x=df['race_ethnicity'].value_counts(),labels=df['race_ethnicity'].value_counts())
plt.title('race count',fontsize=20)

plt.show()



df['race_ethnicity'].value_counts()


df.groupby('race_ethnicity').mean(numeric_only=True)


Group_data=df.groupby('race_ethnicity').mean(numeric_only=True)
f,ax=plt.subplots(1,5, figsize=(30,8))
p=['mako','flare','coolwarm','dark','deep']
for i,col in enumerate(Group_data.columns ):
    sns.barplot(x=Group_data.index,y=Group_data[col].values,ax=ax[i],palette=p[i])
    ax[i].set_title(col,color='b')
    for container in ax[i].containers:
        ax[i].bar_label(container,color='#005ce6',size=15)


Group_data2=df.groupby('race_ethnicity')
f,ax=plt.subplots(1,3,figsize=(20,8))
sns.barplot(x=Group_data2['math_score'].mean().index,y=Group_data2['math_score'].mean().values,palette = 'mako',ax=ax[0])
ax[0].set_title('Math score',color='#005ce6',size=20)

for container in ax[0].containers:
    ax[0].bar_label(container,color='black',size=15)

sns.barplot(x=Group_data2['reading_score'].mean().index,y=Group_data2['reading_score'].mean().values,palette = 'flare',ax=ax[1])
ax[1].set_title('Reading score',color='#005ce6',size=20)

for container in ax[1].containers:
    ax[1].bar_label(container,color='black',size=15)

sns.barplot(x=Group_data2['writing_score'].mean().index,y=Group_data2['writing_score'].mean().values,palette = 'coolwarm',ax=ax[2])
ax[2].set_title('Writing score',color='#005ce6',size=20)

for container in ax[2].containers:
    ax[2].bar_label(container,color='black',size=15)









plt.rcParams['figure.figsize']=(15,19)
plt.style.use('fivethirtyeight')

sns.countplot(df['parental_level_of_education'],palette='Blues')
plt.title('Comparison of Parental Education', fontweight = 30, fontsize = 20)
plt.xlabel('Degree')
plt.ylabel('count')


plt.show()





df.groupby('parental_level_of_education').mean(numeric_only=True)



df.groupby('parental_level_of_education')[['math_score','writing_score','reading_score']].agg('mean').plot(kind='barh', figsize=(10, 10))
plt.legend(bbox_to_anchor=(1.05, 1), loc=2, borderaxespad=1)
df.groupby('parental_level_of_education')[['math_score','writing_score','reading_score']].agg('mean').plot(kind='barh', figsize=(10, 10))

df.groupby('parental_level_of_education').mean(numeric_only=True).plot(figsize=(20,10))
plt.legend(bbox_to_anchor=(1.05, 1), loc=2, borderaxespad=0.)

plt.show()






plt.rcParams['figure.figsize']=(15,9)
plt.style.use('seaborn-talk')


ax=sns.countplot(x=df['lunch'],palette='PuBu')
for container in ax.containers :
    ax.bar_label(container)

plt.title('Comparaison of different types of lunch',fontweight=30,fontsize=20)
plt.xlabel('type of lunch')
plt.ylabel('count')
plt.show()





df.groupby('lunch').mean(numeric_only=True)



p=df.groupby('lunch').mean(numeric_only=True)
f,ax=plt.subplots(1,len(p.columns),figsize=(20,6))
for i, col in enumerate (p.columns):
    sns.barplot(x=p.index,y=p[col].values, ax=ax[i])
    ax[i].set_title(col)
    for container in ax[i].containers:
        ax[i].bar_label(container)
   





f,ax=plt.subplots(1,2,figsize=(20,8))
sns.countplot(x=df['parental_level_of_education'],data=df,palette = 'bright',hue='test_preparation_course',saturation=0.95,ax=ax[0])
ax[0].set_title('Students vs test preparation course ',color='black',size=25)
for container in ax[0].containers:
    ax[0].bar_label(container,color='black',size=20)
    
sns.countplot(x=df['parental_level_of_education'],data=df,palette = 'bright',hue='lunch',saturation=0.95,ax=ax[1])
for container in ax[1].containers:
    ax[1].bar_label(container,color='black',size=20)  


plt.subplots(1,4,figsize=(16,5))
plt.subplot(141)
sns.boxplot(df['math_score'],color='skyblue')
plt.subplot(142)
sns.boxplot(df['reading_score'],color='hotpink')
plt.subplot(143)
sns.boxplot(df['writing_score'],color='yellow')
plt.subplot(144)
sns.boxplot(df['average'],color='lightgreen')
plt.show()


sns.pairplot(df,hue='gender')
plt.show()








import matplotlib.patches as mpatches  # Import mpatches for custom legend handles


plt.figure(figsize=(70 , 20 ))
plt.suptitle("Comparison of Numeric and Categorical Variables", 
             fontsize=40, fontweight='bold',color='#e16603')
plt.style.use('seaborn-talk')

p = df.select_dtypes(include=['number'])  
d = df.select_dtypes(include=['object']) 


for i, col in enumerate(p.columns):  
    for j, coll in enumerate(d.columns): 
        plt.subplot(len(d.columns), len(p.columns), i * len(d.columns) + j + 1)
        plt.xlim(0, 100)  
        plt.ylim(0, 300) 
        palette = sns.color_palette('icefire', n_colors=len(df[coll].unique()))

        ax=sns.barplot(x=df[coll], y=df[col], hue=df[coll], palette=palette)
        ax.set_xlabel(coll, fontsize=14, fontweight='bold' ,color='#5e2700')  
        ax.set_ylabel(col, fontsize=14,fontweight ='bold',color='#5e2700')  

        for container in ax.containers:
            ax.bar_label(container,fontsize=14,fontweight='bold')
        
        plt.title(f"{coll} vs {col}",fontsize=22,fontweight='bold', color='#5e2700' )
        for spine in ax.spines.values():  
            spine.set_edgecolor("grey")  
            spine.set_linewidth(1.5) 
        handles = [mpatches.Patch(color=palette[k], label=str(label)) 
                    for k, label in enumerate(df[coll].unique())]

        ax.legend(handles=handles, title=coll, bbox_to_anchor=(-0.1,1.05), loc='upper right', borderaxespad=0.5)
plt.tight_layout(rect=[0, 0, 1, 0.96])        
plt.show()






df.head()


p = df.groupby(['gender', 'race_ethnicity', 'parental_level_of_education', 'lunch', 'test_preparation_course'])['average'].mean().reset_index()
p = p.sort_values(by='average', ascending=False).reset_index(drop=True)
p_count = df.groupby(['gender', 'race_ethnicity', 'parental_level_of_education', 'lunch', 'test_preparation_course']).size().reset_index(name='count')
p_combined = p.merge(p_count, on=['gender', 'race_ethnicity', 'parental_level_of_education', 'lunch', 'test_preparation_course'])

plt.figure(figsize=(90, 20))
plt.subplot(2, 1, 1)  

ax = sns.barplot(x=p.index+1, y="average", data=p, palette="viridis")

plt.title("Average Scores by Category Combination", fontsize=40, fontweight='bold')
plt.xlabel("Category Combination", fontsize=30,fontweight='bold')
plt.ylabel("Average Score", fontsize=30,fontweight='bold')

plt.subplot(2, 1, 2)  # 2 rows, 1 column, second plot
ax2 = sns.barplot(x=p_combined.index, y="count", data=p_combined, palette="magma")
ax2.set_xticklabels(p_combined['count'])
plt.title("Count of Students by Category Combination (Synchronized with Average Scores)", fontsize=40, fontweight='bold')
plt.xlabel("Category Combination", fontsize=30,fontweight='bold')
plt.ylabel("Count of Students", fontsize=30,fontweight='bold')
plt.tight_layout()

plt.show()


grouped = df.groupby(['gender', 'race_ethnicity', 'parental_level_of_education', 'lunch', 'test_preparation_course'])['average'].mean().reset_index()

grouped = grouped.sort_values(by='average', ascending=False)

p_count = df.groupby(['gender', 'race_ethnicity', 'parental_level_of_education', 'lunch', 'test_preparation_course']).size().reset_index(name='count')

p_combined = grouped.merge(p_count, on=['gender', 'race_ethnicity', 'parental_level_of_education', 'lunch', 'test_preparation_course'])
pd.set_option('display.max_rows', 210)

for index, row in p_combined.iterrows():
    print(index+1,f"Gender: {row['gender']}, Race: {row['race_ethnicity']}, Parental Education: {row['parental_level_of_education']}, "
          f"Lunch: {row['lunch']}, Test Prep: {row['test_preparation_course']} -> Average Score: {round(row['average'], 2)}, "
          f"Number of Students: {row['count']}")
p_combined['index'] = range(1, len(p_combined) + 1)
p_combined = p_combined[['index', 'gender', 'race_ethnicity', 'parental_level_of_education', 'lunch', 'test_preparation_course', 'average', 'count']]
p_combined.to_csv('all_possibilities.csv', index=False)






p= df.sort_values(by='average', ascending=False).reset_index(drop=True)

plt.figure(figsize=(500, 100))
ax = sns.barplot(x=p.index, y=p['average'])
print(p.index)




df.sort_values(by='average', ascending=False).reset_index(drop=True)
